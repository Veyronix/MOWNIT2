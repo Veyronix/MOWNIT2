{
 "cells": [
  {
   "cell_type": "markdown",
   "metadata": {},
   "source": [
    "# Układy równań liniowych\n",
    "\n",
    "### Pojęcia warte poznania\n",
    "\n",
    "* Układ równań liniowych: https://pl.wikipedia.org/wiki/Układ_równań_liniowych\n",
    "* Rząd macierzy: https://pl.wikipedia.org/wiki/Rząd_macierzy\n",
    "* Kombinacja liniowa: https://pl.wikipedia.org/wiki/Kombinacja_liniowa\n",
    "* Eliminacja Gaussa: https://pl.wikipedia.org/wiki/Metoda_eliminacji_Gaussa, Kincaid-Cheney_*_ str. 245, pełny pseudokod: str. 252\n",
    "* Pivoting: https://en.wikipedia.org/wiki/Pivot_element#Partial_and_complete_pivoting, K.C. str. 261, pełny pseudokod: str. 267\n",
    "* Norma wektora: https://pl.wikipedia.org/wiki/Przestrze%C5%84_unormowana, K.C. str. 320\n",
    "* Norma macierzy: https://pl.wikipedia.org/wiki/Norma_macierzowa\n",
    "* Macierz dodatnio określona: https://pl.wikipedia.org/wiki/Określoność_formy\n",
    "* Faktoryzacja LU: https://pl.wikipedia.org/wiki/Metoda_LU, K.C. str. 294\n",
    "* Faktoryzacja Cholesky'ego: https://pl.wikipedia.org/wiki/Rozkład_Choleskiego, K.C. str. 305\n",
    "\n",
    "Dodatkowo:\n",
    "* Wskaźnik uwarunkowania: https://pl.wikipedia.org/wiki/Wska%C5%BAnik_uwarunkowania, K.C. str.321\n",
    "* Metoda Jacobiego: https://en.wikipedia.org/wiki/Jacobi_method, K.C. 323\n",
    "\n",
    "Książka dla wytrwałych (naprawdę): Y. Saad \"Iterative Methods for Sparse Linear Systems\""
   ]
  },
  {
   "cell_type": "code",
   "execution_count": 2,
   "metadata": {},
   "outputs": [],
   "source": [
    "from typing import Optional, Tuple\n",
    "import numpy as np"
   ]
  },
  {
   "cell_type": "markdown",
   "metadata": {},
   "source": [
    "### Zadanie rozgrzewkowe:\n",
    "Napisać mnożenie macierzy w ulubionym_\\**_ języku programowania.\n",
    "\n",
    "**Pytanko:** jakie muszą być wymiary mnożonych macierzy? (Który wymiar musi się \"zgadzać\"?)\n",
    "\n",
    "**Zadanko:** Uzupełnić brakujące wymiary macierzy w docstringu (z dokładnością do [\"alfa-konwersji\"](https://pl.wikipedia.org/wiki/Konwersja_α))"
   ]
  },
  {
   "cell_type": "code",
   "execution_count": 18,
   "metadata": {},
   "outputs": [],
   "source": [
    "def agh_superfast_matrix_multiply(a: np.matrix, b: np.matrix) -> np.matrix:\n",
    "    \"\"\"Perform totally ordinary multiplication of matrices.\n",
    "    \n",
    "    :param a: matrix with dimensions 2 by 4\n",
    "    :param b: matrix with dimensions 4 by 2\n",
    "    :return:  matrix with dimensions 4 by 4\n",
    "    \"\"\"\n",
    "    \n",
    "    while(np.size(a,0) > np.size(b,1)):\n",
    "        b = np.insert(b, np.size(b,1), values=0, axis=1)\n",
    "        \n",
    "    while(np.size(a,0) < np.size(b,1)):\n",
    "        a = np.insert(a, np.size(a,0), values=0, axis=1)\n",
    "        \n",
    "    while(np.size(a,1) > np.size(b,0)):\n",
    "        b = np.insert(b, np.size(b,0), values=0, axis=0)\n",
    "        \n",
    "    while(np.size(a,1) < np.size(b,0)):\n",
    "        a = np.insert(a, np.size(a,1), values=0, axis=0)\n",
    "        \n",
    "    new_matrix = np.zeros(shape=(np.size(a,0),np.size(b,1)))\n",
    "    \n",
    "    for i in range(0,np.size(a,0)):\n",
    "        for j in range(0,np.size(a,0)):\n",
    "            for k in range(0,np.size(b,0)):\n",
    "                new_matrix[i,j]+=a[i,k]*b[k,j]\n",
    "            \n",
    "    return new_matrix\n",
    "\n",
    "\n",
    "m1 = np.matrix([[1, 2],\n",
    "                [3, 4],\n",
    "                [4, 5],\n",
    "                [5, 1]])\n",
    "\n",
    "m2 = np.matrix([[1, 2, 3],\n",
    "                [4, 5, 6]])\n",
    "\n",
    "m2 = np.insert(m2, np.size(m2,1), values=0, axis=1) \n",
    "\n",
    "res = agh_superfast_matrix_multiply(m1, m2)\n",
    "assert np.allclose(res, m1 * m2), \"Wrong multiplication result\""
   ]
  },
  {
   "cell_type": "markdown",
   "metadata": {},
   "source": [
    "### Zadania\n",
    "1. Przeczytać rozdz. 7. Kincaida i Cheney'a (Systems of Linear Equations).\n",
    "2. Przeczytać rozdz. 8. Kincaida i Cheney'a (Additional Topics Concerning Systems of Linear Equations).\n",
    "3. Napisać kod (w ulubionym_\\**_ języku) do eliminacji Gaussa z i bez pivotingu.\n",
    "4. Rozwiązać poniższy układ równań z pivotingiem i bez, porównać wyniki:"
   ]
  },
  {
   "cell_type": "code",
   "execution_count": 4,
   "metadata": {},
   "outputs": [
    {
     "name": "stdout",
     "output_type": "stream",
     "text": [
      "[[ 0.21602477]\n",
      " [-0.00791511]\n",
      " [ 0.63524333]\n",
      " [ 0.74617428]]\n",
      "[[ 0.21602477]\n",
      " [-0.00791511]\n",
      " [ 0.63524333]\n",
      " [ 0.74617428]]\n"
     ]
    }
   ],
   "source": [
    "def Gauss_without_pivoting(A: np.matrix, b: np.matrix):\n",
    "    for k in range(0,np.size(A,1)):\n",
    "        for i in range(k+1,np.size(A,0)):\n",
    "            dividor = A[i,k]/A[k,k]\n",
    "            b[i] = b[i] - (dividor)*b[k]\n",
    "            for j in range(k,np.size(A,1)):\n",
    "                A[i,j] = A[i,j] -(dividor)*A[k,j]\n",
    "    result = np.zeros(shape=(np.size(b,0),1))\n",
    "    for i in reversed(range(0,np.size(result,0))):\n",
    "        for j in reversed(range(i,np.size(result,0))):\n",
    "            b[i] = b[i] - A[i,j]*result[j]\n",
    "        result[i] = b[i]/A[i,i]\n",
    "    return result\n",
    "\n",
    "\n",
    "A = np.matrix([[0.0001, -5.0300, 5.8090, 7.8320],\n",
    "               [2.2660, 1.9950,  1.2120, 8.0080],\n",
    "               [8.8500, 5.6810,  4.5520, 1.3020],\n",
    "               [6.7750, -2.253,  2.9080, 3.9700]])\n",
    "\n",
    "b = np.matrix([9.5740, 7.2190, 5.7300, 6.2910]).transpose()\n",
    "\n",
    "x = np.linalg.solve(A, b)\n",
    "print(Gauss_without_pivoting(A,b))\n",
    "print(x)"
   ]
  },
  {
   "cell_type": "code",
   "execution_count": 5,
   "metadata": {},
   "outputs": [
    {
     "data": {
      "text/plain": [
       "array([[ 3.],\n",
       "       [ 1.],\n",
       "       [-2.],\n",
       "       [ 1.]])"
      ]
     },
     "execution_count": 5,
     "metadata": {},
     "output_type": "execute_result"
    }
   ],
   "source": [
    "def Gauss_with_pivoting(A: np.matrix, b: np.matrix):\n",
    "    last_sequence_of_rows = np.zeros(shape=(np.size(b,0),1))\n",
    "    index_vector = np.zeros(shape=(np.size(b,0)+1,1))\n",
    "    for i in range(0,np.size(index_vector,0)):\n",
    "        index_vector[i] = i-1\n",
    "    biggests_values_vector = np.zeros(shape=(np.size(b,0),1))\n",
    "    for tmp in index_vector:\n",
    "        i = (int)(tmp)\n",
    "        for j in range(0,np.size(A,1)):\n",
    "            if biggests_values_vector[i] < np.absolute(A[i,j]):\n",
    "                biggests_values_vector[i] = np.absolute(A[i,j])\n",
    "    for k in range(0,np.size(b,0)):\n",
    "        index_vector = index_vector[1:np.size(index_vector,0)]\n",
    "        scale_vector = np.zeros(shape=(np.size(b,0)-k,1))\n",
    "        for i in range(0,np.size(index_vector,0)):\n",
    "            tmp = (int)(index_vector[i])\n",
    "            scale_vector[i] = np.absolute(A[tmp,k])/biggests_values_vector[tmp]\n",
    "        first = index_vector.item(0)\n",
    "        iterator = 0\n",
    "        while(True):\n",
    "            if scale_vector[iterator] == np.max(scale_vector):\n",
    "                index_vector[0] = index_vector[iterator]\n",
    "                index_vector[iterator] = first\n",
    "                break\n",
    "            iterator += 1\n",
    "        last_sequence_of_rows[k] = index_vector.item(0)\n",
    "        k2 = (int) (index_vector.item(0))\n",
    "        for tmp in range(1,np.size(index_vector,0)):\n",
    "            i2 = (int) (index_vector.item(tmp))\n",
    "            dividor = A[i2,k]/A[k2,k]\n",
    "            b[i2] = b[i2] - (dividor)*b[k2]\n",
    "            for j2 in range(0,np.size(A,1)):\n",
    "                A[i2,j2] = A[i2,j2] -(dividor)*A[k2,j2]\n",
    "\n",
    "    result = np.zeros(shape=(np.size(b,0),1))\n",
    "    for id_of_row,row in enumerate(reversed(last_sequence_of_rows)):\n",
    "        int_row = (int)(row)\n",
    "        for i in reversed(range(np.size(result,0) - id_of_row,np.size(result,0) )):\n",
    "            elder_row = (int)(last_sequence_of_rows[i])\n",
    "            b[int_row] = b[int_row] - A[int_row,i]*result[elder_row]\n",
    "        result[int_row] = b[int_row]/A[int_row,np.size(result,0) - id_of_row - 1]\n",
    "    last_result = np.zeros(shape=(np.size(result,0),1))\n",
    "    iterator = 0\n",
    "    for i in last_sequence_of_rows:\n",
    "        last_result[iterator] = result[(int)(i)]\n",
    "        iterator+=1\n",
    "    return last_result\n",
    "\n",
    "\n",
    "A = np.matrix([[3.0, -13.0, 9.0, 3.0],\n",
    "               [-6.0, 4.0,  1.0, -18.0],\n",
    "               [6.0, -2.0,  2.0, 4.0],\n",
    "               [12.0, -8.0,  6.0, 10.0]])\n",
    "\n",
    "b = np.matrix([-19.0, -34.0, 16.0, 26.0]).transpose()\n",
    "\n",
    "Gauss_with_pivoting(A,b)\n"
   ]
  },
  {
   "cell_type": "markdown",
   "metadata": {},
   "source": [
    "**Pytanie**: dlaczego wołamy `transpose()` na wektorze `b`?\n",
    "Bo wektor b musi byc \"pionowy\"\n",
    "\n",
    "Sprawdźmy, czy rozwiązanie jest ok (**Pytanie'**: dlaczego po prostu nie użyjemy `==` lub jakiegoś `equals`?):"
   ]
  },
  {
   "cell_type": "code",
   "execution_count": 6,
   "metadata": {},
   "outputs": [
    {
     "data": {
      "text/plain": [
       "False"
      ]
     },
     "execution_count": 6,
     "metadata": {},
     "output_type": "execute_result"
    }
   ],
   "source": [
    "np.allclose(np.dot(A, x), b)"
   ]
  },
  {
   "cell_type": "markdown",
   "metadata": {},
   "source": [
    "### Zadania, c.d.\n",
    "\n",
    "5. Zaimplementować algorytm faktoryzacji LU macierzy\n",
    "6. (*) Zaimplementować funkcję sprawdzającą, czy dana macierz jest symetryczna i dodatnio określona\n",
    "7. Zaimplementować algorytm faktoryzacji Cholesky'ego macierzy"
   ]
  },
  {
   "cell_type": "code",
   "execution_count": 43,
   "metadata": {},
   "outputs": [
    {
     "data": {
      "text/plain": [
       "array([[ 5.,  0.,  0.],\n",
       "       [ 3.,  3.,  0.],\n",
       "       [-1.,  1.,  3.]])"
      ]
     },
     "execution_count": 43,
     "metadata": {},
     "output_type": "execute_result"
    }
   ],
   "source": [
    "def agh_superfast_lu(a: np.matrix) -> Optional[Tuple[np.matrix, np.matrix]]:\n",
    "    \"\"\"Perform LU decomposition of a matrix.\n",
    "    \n",
    "    :param a: _\n",
    "    :return:  _\n",
    "    \"\"\"\n",
    "    u = np.zeros(shape=(np.size(a,0),np.size(a,1)))\n",
    "    l = np.zeros(shape=(np.size(a,0),np.size(a,1)))\n",
    "    for i in range(0,np.size(a,0)):\n",
    "        l[i,i] = 1\n",
    "        for j in range(0,i+1):\n",
    "            sum1 = 0\n",
    "            for k in range(0,j):\n",
    "                sum1 += l[j,k]*u[k,i]\n",
    "            u[j,i] = a[j,i] - sum1\n",
    "\n",
    "        for j in range(i+1,np.size(a,0)):\n",
    "            sum2 = 0\n",
    "            for k in range(0,i):\n",
    "                sum2 += l[j,k]*u[k,i]\n",
    "            sum2 = a[j,i] - sum2\n",
    "            l[j,i] = sum2/u[i,i]\n",
    "\n",
    "    return(u,l)\n",
    "\n",
    "def agh_superfast_check_spd(a: np.matrix) -> bool:\n",
    "    \"\"\"Check whether a matrix is symmetric and positive-definite (SPD).\n",
    "    \n",
    "    :param a: normal matrix\n",
    "    \"\"\"\n",
    "    l = agh_superfast_cholesky(a)\n",
    "    if(np.array_equal(agh_superfast_matrix_multiply(l, l.transpose()),a)):\n",
    "        return true\n",
    "    return false\n",
    "\n",
    "def agh_superfast_cholesky(a: np.matrix):\n",
    "    \"\"\"Perform a Cholesky decomposition of a matrix.\n",
    "    \n",
    "    :param a: matrix which is symetric and positive-definite\n",
    "    :return:  l\n",
    "    \"\"\"\n",
    "    l = np.zeros(shape=(np.size(a,0),np.size(a,1)))\n",
    "    for k in range(0,np.size(a,0)):\n",
    "        sum1 = 0\n",
    "        for s in range(0,k):\n",
    "            sum1+=l[k,s]*l[k,s]\n",
    "        l[k,k] = np.sqrt(a[k,k] - sum1)\n",
    "        \n",
    "        for i in range(k+1,np.size(a,0)):\n",
    "            sum2 = 0\n",
    "            for s in range(0,k):\n",
    "                sum2 += l[i,s]*l[k,s]\n",
    "            l[i,k] = (a[i,k] - sum2)/l[k,k]    \n",
    "    if(np.array_equal(agh_superfast_matrix_multiply(l, l.transpose()),a)):\n",
    "        return l\n",
    "    return None\n",
    "\n",
    "A = np.matrix([[25.0, 15.0, -5.0],\n",
    "               [15.0, 18.0,  0.0],\n",
    "               [-5.0, 0.0,  11.0]])\n",
    "\n",
    "A2 = np.matrix([[4.0, 12.0, -16.0],\n",
    "               [12.0, 37.0,  -43.0],\n",
    "               [-16.0, -43.0,  98.0]])\n",
    "\n",
    "# agh_superfast_lu(A)\n",
    "# agh_superfast_cholesky(A)"
   ]
  },
  {
   "cell_type": "markdown",
   "metadata": {},
   "source": [
    "### Zadania, opcjonalnie\n",
    "5. zaimplementować metodę Jacobiego (iteracyjne rozwiązywanie układu równań liniowych)\n",
    "6. za pomocą tejże metody rozwiązać powyższy układ równań"
   ]
  },
  {
   "cell_type": "markdown",
   "metadata": {},
   "source": [
    "\\*  wszystkie referencje odnoszą się do [książki](https://wiki.iiet.pl/lib/exe/fetch.php?media=studia:przedmioty:mownit:numerical_mathematics_and_computing.pdf) David Kincaid, Ward Cheney - \"Numerical Mathematics and Computing, 6th edition\"\n",
    "\\** _ulubiony_ język programowania staramy się pojmować rozsądnie, tj. z wyłączeniem języków pokroju Prologa, języków z [tej listy](https://en.wikipedia.org/wiki/Esoteric_programming_language) oraz Assemblera i PHP. Haskella można używać na własną odpowiedzialność."
   ]
  }
 ],
 "metadata": {
  "kernelspec": {
   "display_name": "Python 3",
   "language": "python",
   "name": "python3"
  },
  "language_info": {
   "codemirror_mode": {
    "name": "ipython",
    "version": 3
   },
   "file_extension": ".py",
   "mimetype": "text/x-python",
   "name": "python",
   "nbconvert_exporter": "python",
   "pygments_lexer": "ipython3",
   "version": "3.6.6"
  }
 },
 "nbformat": 4,
 "nbformat_minor": 2
}
